{
 "cells": [
  {
   "cell_type": "code",
   "execution_count": 1,
   "id": "0bd5ee9d-9221-4cc5-a703-085487916b09",
   "metadata": {},
   "outputs": [],
   "source": [
    "#write a python functions that takes a list of numbers as input and returns the sum of all even numbers in the list "
   ]
  },
  {
   "cell_type": "code",
   "execution_count": 2,
   "id": "60d51557-c890-4fb1-81cb-869a541fe8da",
   "metadata": {},
   "outputs": [
    {
     "name": "stdout",
     "output_type": "stream",
     "text": [
      "The sum of all even numbers in the list is: 12\n"
     ]
    }
   ],
   "source": [
    "def sum_of_even_numbers(numbers):\n",
    "    return sum(number for number in numbers if number % 2 == 0)\n",
    "\n",
    "# Example usage:\n",
    "numbers = [1, 2, 3, 4, 5, 6]\n",
    "result = sum_of_even_numbers(numbers)\n",
    "print(f\"The sum of all even numbers in the list is: {result}\")"
   ]
  },
  {
   "cell_type": "code",
   "execution_count": 3,
   "id": "a8d8df5c-3656-4d0c-9c4a-81f09e249490",
   "metadata": {},
   "outputs": [],
   "source": [
    "#create a Python function that accepts a string and returns the reverse of that string"
   ]
  },
  {
   "cell_type": "code",
   "execution_count": 4,
   "id": "7a47dd4a-8769-475b-a92b-d84e374018e5",
   "metadata": {},
   "outputs": [
    {
     "name": "stdout",
     "output_type": "stream",
     "text": [
      "The reverse of 'Hello, World!' is: '!dlroW ,olleH'\n"
     ]
    }
   ],
   "source": [
    "def reverse_string(s):\n",
    "    return s[::-1]\n",
    "\n",
    "# Example usage:\n",
    "input_string = \"Hello, World!\"\n",
    "reversed_string = reverse_string(input_string)\n",
    "print(f\"The reverse of '{input_string}' is: '{reversed_string}'\")"
   ]
  },
  {
   "cell_type": "code",
   "execution_count": 5,
   "id": "dbe37959-ba26-4643-91e7-b5dd46afc112",
   "metadata": {},
   "outputs": [],
   "source": [
    "#Implement a python functions that accepts a string and returns the reverse of that string"
   ]
  },
  {
   "cell_type": "code",
   "execution_count": 6,
   "id": "5d21b826-8238-49fc-bb4c-c0cc896f7f29",
   "metadata": {},
   "outputs": [
    {
     "name": "stdout",
     "output_type": "stream",
     "text": [
      "The reverse of 'Hello, World!' is: '!dlroW ,olleH'\n"
     ]
    }
   ],
   "source": [
    "def reverse_string(s):\n",
    "    reversed_s = \"\"\n",
    "    for char in s:\n",
    "        reversed_s = char + reversed_s\n",
    "    return reversed_s\n",
    "\n",
    "# Example usage:\n",
    "input_string = \"Hello, World!\"\n",
    "reversed_string = reverse_string(input_string)\n",
    "print(f\"The reverse of '{input_string}' is: '{reversed_string}'\")"
   ]
  },
  {
   "cell_type": "code",
   "execution_count": null,
   "id": "75be0817-a79d-49d4-bc3a-19e5829be02a",
   "metadata": {},
   "outputs": [],
   "source": [
    "#Write a Python function that checks if a given number is prime or not from 1 to 200"
   ]
  },
  {
   "cell_type": "code",
   "execution_count": 1,
   "id": "c8693084-d66a-4ec9-8936-4c4e1441ee06",
   "metadata": {},
   "outputs": [
    {
     "name": "stdout",
     "output_type": "stream",
     "text": [
      "1 is not a prime number.\n",
      "2 is a prime number.\n",
      "3 is a prime number.\n",
      "4 is not a prime number.\n",
      "5 is a prime number.\n",
      "6 is not a prime number.\n",
      "7 is a prime number.\n",
      "8 is not a prime number.\n",
      "9 is not a prime number.\n",
      "10 is not a prime number.\n",
      "11 is a prime number.\n",
      "12 is not a prime number.\n",
      "13 is a prime number.\n",
      "14 is not a prime number.\n",
      "15 is not a prime number.\n",
      "16 is not a prime number.\n",
      "17 is a prime number.\n",
      "18 is not a prime number.\n",
      "19 is a prime number.\n",
      "20 is not a prime number.\n",
      "21 is not a prime number.\n",
      "22 is not a prime number.\n",
      "23 is a prime number.\n",
      "24 is not a prime number.\n",
      "25 is not a prime number.\n",
      "26 is not a prime number.\n",
      "27 is not a prime number.\n",
      "28 is not a prime number.\n",
      "29 is a prime number.\n",
      "30 is not a prime number.\n",
      "31 is a prime number.\n",
      "32 is not a prime number.\n",
      "33 is not a prime number.\n",
      "34 is not a prime number.\n",
      "35 is not a prime number.\n",
      "36 is not a prime number.\n",
      "37 is a prime number.\n",
      "38 is not a prime number.\n",
      "39 is not a prime number.\n",
      "40 is not a prime number.\n",
      "41 is a prime number.\n",
      "42 is not a prime number.\n",
      "43 is a prime number.\n",
      "44 is not a prime number.\n",
      "45 is not a prime number.\n",
      "46 is not a prime number.\n",
      "47 is a prime number.\n",
      "48 is not a prime number.\n",
      "49 is not a prime number.\n",
      "50 is not a prime number.\n",
      "51 is not a prime number.\n",
      "52 is not a prime number.\n",
      "53 is a prime number.\n",
      "54 is not a prime number.\n",
      "55 is not a prime number.\n",
      "56 is not a prime number.\n",
      "57 is not a prime number.\n",
      "58 is not a prime number.\n",
      "59 is a prime number.\n",
      "60 is not a prime number.\n",
      "61 is a prime number.\n",
      "62 is not a prime number.\n",
      "63 is not a prime number.\n",
      "64 is not a prime number.\n",
      "65 is not a prime number.\n",
      "66 is not a prime number.\n",
      "67 is a prime number.\n",
      "68 is not a prime number.\n",
      "69 is not a prime number.\n",
      "70 is not a prime number.\n",
      "71 is a prime number.\n",
      "72 is not a prime number.\n",
      "73 is a prime number.\n",
      "74 is not a prime number.\n",
      "75 is not a prime number.\n",
      "76 is not a prime number.\n",
      "77 is not a prime number.\n",
      "78 is not a prime number.\n",
      "79 is a prime number.\n",
      "80 is not a prime number.\n",
      "81 is not a prime number.\n",
      "82 is not a prime number.\n",
      "83 is a prime number.\n",
      "84 is not a prime number.\n",
      "85 is not a prime number.\n",
      "86 is not a prime number.\n",
      "87 is not a prime number.\n",
      "88 is not a prime number.\n",
      "89 is a prime number.\n",
      "90 is not a prime number.\n",
      "91 is not a prime number.\n",
      "92 is not a prime number.\n",
      "93 is not a prime number.\n",
      "94 is not a prime number.\n",
      "95 is not a prime number.\n",
      "96 is not a prime number.\n",
      "97 is a prime number.\n",
      "98 is not a prime number.\n",
      "99 is not a prime number.\n",
      "100 is not a prime number.\n",
      "101 is a prime number.\n",
      "102 is not a prime number.\n",
      "103 is a prime number.\n",
      "104 is not a prime number.\n",
      "105 is not a prime number.\n",
      "106 is not a prime number.\n",
      "107 is a prime number.\n",
      "108 is not a prime number.\n",
      "109 is a prime number.\n",
      "110 is not a prime number.\n",
      "111 is not a prime number.\n",
      "112 is not a prime number.\n",
      "113 is a prime number.\n",
      "114 is not a prime number.\n",
      "115 is not a prime number.\n",
      "116 is not a prime number.\n",
      "117 is not a prime number.\n",
      "118 is not a prime number.\n",
      "119 is not a prime number.\n",
      "120 is not a prime number.\n",
      "121 is not a prime number.\n",
      "122 is not a prime number.\n",
      "123 is not a prime number.\n",
      "124 is not a prime number.\n",
      "125 is not a prime number.\n",
      "126 is not a prime number.\n",
      "127 is a prime number.\n",
      "128 is not a prime number.\n",
      "129 is not a prime number.\n",
      "130 is not a prime number.\n",
      "131 is a prime number.\n",
      "132 is not a prime number.\n",
      "133 is not a prime number.\n",
      "134 is not a prime number.\n",
      "135 is not a prime number.\n",
      "136 is not a prime number.\n",
      "137 is a prime number.\n",
      "138 is not a prime number.\n",
      "139 is a prime number.\n",
      "140 is not a prime number.\n",
      "141 is not a prime number.\n",
      "142 is not a prime number.\n",
      "143 is not a prime number.\n",
      "144 is not a prime number.\n",
      "145 is not a prime number.\n",
      "146 is not a prime number.\n",
      "147 is not a prime number.\n",
      "148 is not a prime number.\n",
      "149 is a prime number.\n",
      "150 is not a prime number.\n",
      "151 is a prime number.\n",
      "152 is not a prime number.\n",
      "153 is not a prime number.\n",
      "154 is not a prime number.\n",
      "155 is not a prime number.\n",
      "156 is not a prime number.\n",
      "157 is a prime number.\n",
      "158 is not a prime number.\n",
      "159 is not a prime number.\n",
      "160 is not a prime number.\n",
      "161 is not a prime number.\n",
      "162 is not a prime number.\n",
      "163 is a prime number.\n",
      "164 is not a prime number.\n",
      "165 is not a prime number.\n",
      "166 is not a prime number.\n",
      "167 is a prime number.\n",
      "168 is not a prime number.\n",
      "169 is not a prime number.\n",
      "170 is not a prime number.\n",
      "171 is not a prime number.\n",
      "172 is not a prime number.\n",
      "173 is a prime number.\n",
      "174 is not a prime number.\n",
      "175 is not a prime number.\n",
      "176 is not a prime number.\n",
      "177 is not a prime number.\n",
      "178 is not a prime number.\n",
      "179 is a prime number.\n",
      "180 is not a prime number.\n",
      "181 is a prime number.\n",
      "182 is not a prime number.\n",
      "183 is not a prime number.\n",
      "184 is not a prime number.\n",
      "185 is not a prime number.\n",
      "186 is not a prime number.\n",
      "187 is not a prime number.\n",
      "188 is not a prime number.\n",
      "189 is not a prime number.\n",
      "190 is not a prime number.\n",
      "191 is a prime number.\n",
      "192 is not a prime number.\n",
      "193 is a prime number.\n",
      "194 is not a prime number.\n",
      "195 is not a prime number.\n",
      "196 is not a prime number.\n",
      "197 is a prime number.\n",
      "198 is not a prime number.\n",
      "199 is a prime number.\n",
      "200 is not a prime number.\n"
     ]
    }
   ],
   "source": [
    "def is_prime(n):\n",
    "    if n <= 1:\n",
    "        return False\n",
    "    if n == 2:\n",
    "        return True  # 2 is a prime number\n",
    "    if n % 2 == 0:\n",
    "        return False  # any even number greater than 2 is not prime\n",
    "    for i in range(3, int(n**0.5) + 1, 2):\n",
    "        if n % i == 0:\n",
    "            return False\n",
    "    return True\n",
    "\n",
    "# Example usage:\n",
    "for num in range(1, 201):\n",
    "    if is_prime(num):\n",
    "        print(f\"{num} is a prime number.\")\n",
    "    else:\n",
    "        print(f\"{num} is not a prime number.\")"
   ]
  },
  {
   "cell_type": "code",
   "execution_count": 2,
   "id": "b1113417-9135-4bc9-b6d8-f067c4d06ecd",
   "metadata": {},
   "outputs": [],
   "source": [
    "#Create an iterator class in Python that generates the Fibonacci sequence up to a specified number of terms"
   ]
  },
  {
   "cell_type": "code",
   "execution_count": 3,
   "id": "15c072de-b37d-43a8-ac7d-ed678ee07d23",
   "metadata": {},
   "outputs": [
    {
     "name": "stdout",
     "output_type": "stream",
     "text": [
      "0\n",
      "1\n",
      "1\n",
      "2\n",
      "3\n",
      "5\n",
      "8\n",
      "13\n",
      "21\n",
      "34\n"
     ]
    }
   ],
   "source": [
    "class FibonacciIterator:\n",
    "    def __init__(self, n_terms):\n",
    "        self.n_terms = n_terms\n",
    "        self.current = 0\n",
    "        self.a = 0\n",
    "        self.b = 1\n",
    "\n",
    "    def __iter__(self):\n",
    "        return self\n",
    "\n",
    "    def __next__(self):\n",
    "        if self.current >= self.n_terms:\n",
    "            raise StopIteration\n",
    "        if self.current == 0:\n",
    "            self.current += 1\n",
    "            return 0\n",
    "        elif self.current == 1:\n",
    "            self.current += 1\n",
    "            return 1\n",
    "        else:\n",
    "            fib = self.a + self.b\n",
    "            self.a, self.b = self.b, fib\n",
    "            self.current += 1\n",
    "            return fib\n",
    "\n",
    "# Example usage:\n",
    "n = 10  # Number of terms in the Fibonacci sequence\n",
    "fib_iterator = FibonacciIterator(n)\n",
    "\n",
    "for fib in fib_iterator:\n",
    "    print(fib)\n"
   ]
  },
  {
   "cell_type": "code",
   "execution_count": 4,
   "id": "26cdb291-1304-4a78-b772-a251a8507c8d",
   "metadata": {},
   "outputs": [],
   "source": [
    "#write a generator function in python that yields the power of 2up to a given exponent "
   ]
  },
  {
   "cell_type": "code",
   "execution_count": 5,
   "id": "29410b34-cf93-46af-9902-16654a5a517a",
   "metadata": {},
   "outputs": [
    {
     "name": "stdout",
     "output_type": "stream",
     "text": [
      "1\n",
      "2\n",
      "4\n",
      "8\n",
      "16\n",
      "32\n"
     ]
    }
   ],
   "source": [
    "def powers_of_two(max_exponent):\n",
    "    for exponent in range(max_exponent + 1):\n",
    "        yield 2 ** exponent\n",
    "\n",
    "# Example usage:\n",
    "max_exp = 5  # Generate powers of 2 up to 2^5\n",
    "for value in powers_of_two(max_exp):\n",
    "    print(value)\n"
   ]
  },
  {
   "cell_type": "code",
   "execution_count": 6,
   "id": "04baf040-b8b5-4638-86f1-42ce1712a8a9",
   "metadata": {},
   "outputs": [],
   "source": [
    "#Implement a generator function that reads a file line by line and yields each line as a string"
   ]
  },
  {
   "cell_type": "code",
   "execution_count": 16,
   "id": "9ae61712-0614-4747-a630-3867a84cfc77",
   "metadata": {},
   "outputs": [],
   "source": [
    "# Create a sample text file with some content\n",
    "file_path = r'C:\\Users\\Riya\\Desktop\\example.txt'\n",
    "\n",
    "with open(file_path, 'w') as file:\n",
    "    file.write(\"Hello, World!\\nThis is a sample text file.\\nIt contains several lines of text.\\nEach line is read and processed by the generator function.\\nFeel free to modify the content as needed.\\nHave fun coding!\")"
   ]
  },
  {
   "cell_type": "code",
   "execution_count": 17,
   "id": "7afd3dfd-2212-4670-ba6f-b40785f6a128",
   "metadata": {},
   "outputs": [
    {
     "name": "stdout",
     "output_type": "stream",
     "text": [
      "Hello, World!\n",
      "This is a sample text file.\n",
      "It contains several lines of text.\n",
      "Each line is read and processed by the generator function.\n",
      "Feel free to modify the content as needed.\n",
      "Have fun coding!\n"
     ]
    }
   ],
   "source": [
    "import os\n",
    "\n",
    "def read_file_line_by_line(file_path):\n",
    "    \"\"\"Generator function to read a file line by line.\"\"\"\n",
    "    if not os.path.isfile(file_path):\n",
    "        raise FileNotFoundError(f\"The file at '{file_path}' does not exist.\")\n",
    "    with open(file_path, 'r') as file:\n",
    "        for line in file:\n",
    "            yield line.strip()  # Strip removes leading/trailing whitespace, including newlines\n",
    "\n",
    "# Example usage:\n",
    "file_path = r'C:\\Users\\Riya\\Desktop\\example.txt'  # Replace with your file path\n",
    "try:\n",
    "    for line in read_file_line_by_line(file_path):\n",
    "        print(line)\n",
    "except FileNotFoundError as e:\n",
    "    print(e)"
   ]
  },
  {
   "cell_type": "code",
   "execution_count": 18,
   "id": "4bda1f98-95ab-47dd-94b3-6028b2d5e348",
   "metadata": {},
   "outputs": [],
   "source": [
    "#Use a lambda function in Python to sort a list of tuples based on the second element of each tuples "
   ]
  },
  {
   "cell_type": "code",
   "execution_count": 19,
   "id": "a03a839c-e919-44ed-8844-18175ca97cb5",
   "metadata": {},
   "outputs": [
    {
     "name": "stdout",
     "output_type": "stream",
     "text": [
      "[(3, 1), (2, 2), (1, 3), (4, 4)]\n"
     ]
    }
   ],
   "source": [
    "# Sample list of tuples\n",
    "list_of_tuples = [(1, 3), (2, 2), (3, 1), (4, 4)]\n",
    "\n",
    "# Sort the list of tuples based on the second element of each tuple\n",
    "sorted_list = sorted(list_of_tuples, key=lambda x: x[1])\n",
    "\n",
    "print(sorted_list)"
   ]
  },
  {
   "cell_type": "code",
   "execution_count": 20,
   "id": "1ee5c688-1868-4210-9ff7-bfe4e704a37c",
   "metadata": {},
   "outputs": [],
   "source": [
    "#Write a Python program that uses 'map()' to convert a list of temperatures from Celsius to Fahrenheit"
   ]
  },
  {
   "cell_type": "code",
   "execution_count": 21,
   "id": "3567418b-039f-4235-829c-d613285acfef",
   "metadata": {},
   "outputs": [
    {
     "name": "stdout",
     "output_type": "stream",
     "text": [
      "[32.0, 68.0, 98.6, 212.0]\n"
     ]
    }
   ],
   "source": [
    "# Define the conversion function from Celsius to Fahrenheit\n",
    "def celsius_to_fahrenheit(celsius):\n",
    "    return (celsius * 9/5) + 32\n",
    "\n",
    "# List of temperatures in Celsius\n",
    "celsius_temperatures = [0, 20, 37, 100]\n",
    "\n",
    "# Use map() to apply the conversion function to each temperature\n",
    "fahrenheit_temperatures = list(map(celsius_to_fahrenheit, celsius_temperatures))\n",
    "\n",
    "print(fahrenheit_temperatures)\n"
   ]
  },
  {
   "cell_type": "code",
   "execution_count": 22,
   "id": "8651bf01-08cf-4448-b9f1-5905620bf2db",
   "metadata": {},
   "outputs": [],
   "source": [
    "#Create a Python program that uses 'map()' to remove all the vowels from a given string"
   ]
  },
  {
   "cell_type": "code",
   "execution_count": 23,
   "id": "3a3005d6-8ff7-4ddb-bd57-cbc83807bff8",
   "metadata": {},
   "outputs": [
    {
     "name": "stdout",
     "output_type": "stream",
     "text": [
      "Hll, Wrld!\n"
     ]
    }
   ],
   "source": [
    "# Define the function to remove vowels from a character\n",
    "def remove_vowel(char):\n",
    "    if char.lower() in 'aeiou':\n",
    "        return ''  # Return an empty string if the character is a vowel\n",
    "    return char  # Return the character if it is not a vowel\n",
    "\n",
    "# Function to remove vowels from a string using map()\n",
    "def remove_vowels_from_string(s):\n",
    "    return ''.join(map(remove_vowel, s))\n",
    "\n",
    "# Example usage\n",
    "input_string = \"Hello, World!\"\n",
    "result_string = remove_vowels_from_string(input_string)\n",
    "\n",
    "print(result_string)\n"
   ]
  },
  {
   "cell_type": "code",
   "execution_count": 1,
   "id": "b11afc82-a2ef-4ff4-9815-90a50e4172a1",
   "metadata": {},
   "outputs": [],
   "source": [
    "#Imagine an accounting routine used in book shop.write a python program using lambda and map"
   ]
  },
  {
   "cell_type": "code",
   "execution_count": 2,
   "id": "d8d727f0-0d4e-4ed5-82c0-bc6419b5a851",
   "metadata": {},
   "outputs": [
    {
     "name": "stdout",
     "output_type": "stream",
     "text": [
      "[(34587, 163.8), (98762, 284.0), (77226, 108.85), (88112, 84.97)]\n"
     ]
    }
   ],
   "source": [
    "# Data list representing [Order Number, Book Title and Author, Quantity, Price per Item]\n",
    "orders = [\n",
    "    [34587, \"Learning Python, Mark Lutz\", 4, 40.95],\n",
    "    [98762, \"Programming Python, Mark Lutz\", 5, 56.80],\n",
    "    [77226, \"Head First Python, Paul Barry\", 3, 32.95],\n",
    "    [88112, \"Einführung in Python3, Bernd Klein\", 3, 24.99]\n",
    "]\n",
    "\n",
    "# Using map and lambda to create the required list of 2-tuples\n",
    "order_summary = list(map(lambda x: (x[0], round(x[2] * x[3] + (10 if x[2] * x[3] < 100 else 0), 2)), orders))\n",
    "\n",
    "print(order_summary)"
   ]
  },
  {
   "cell_type": "code",
   "execution_count": null,
   "id": "7915c0cd-f8f8-4fec-9b26-6ad2814d3f10",
   "metadata": {},
   "outputs": [],
   "source": []
  }
 ],
 "metadata": {
  "kernelspec": {
   "display_name": "Python 3 (ipykernel)",
   "language": "python",
   "name": "python3"
  },
  "language_info": {
   "codemirror_mode": {
    "name": "ipython",
    "version": 3
   },
   "file_extension": ".py",
   "mimetype": "text/x-python",
   "name": "python",
   "nbconvert_exporter": "python",
   "pygments_lexer": "ipython3",
   "version": "3.10.8"
  }
 },
 "nbformat": 4,
 "nbformat_minor": 5
}
