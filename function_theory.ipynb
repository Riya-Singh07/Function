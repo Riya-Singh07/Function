{
 "cells": [
  {
   "cell_type": "code",
   "execution_count": 1,
   "id": "e451d4f6-a094-4c76-bef2-b819be1f4829",
   "metadata": {},
   "outputs": [],
   "source": [
    "#What is the difference between a function and a method in Python? "
   ]
  },
  {
   "cell_type": "code",
   "execution_count": 2,
   "id": "d2430795-dcd9-4202-a202-50905ce7fa81",
   "metadata": {},
   "outputs": [],
   "source": [
    "#Both functions and methods are used to perform specific tasks, but they differ in their context and usage. Here are the key differences between a function and a method:\n",
    "#Context:\n",
    "\n",
    "#Function: A function is a block of reusable code that performs a specific task. It is defined using the def keyword and can be called independently. Functions are not bound to any object."
   ]
  },
  {
   "cell_type": "code",
   "execution_count": 3,
   "id": "26b932a7-a9cd-4e86-b2bd-3cb758665425",
   "metadata": {},
   "outputs": [
    {
     "name": "stdout",
     "output_type": "stream",
     "text": [
      "This is a function\n"
     ]
    }
   ],
   "source": [
    "def my_function():\n",
    "    print(\"This is a function\")\n",
    "\n",
    "my_function()  # Calling the function"
   ]
  },
  {
   "cell_type": "code",
   "execution_count": 4,
   "id": "f89d3411-c3c4-4861-9b59-57198e519b39",
   "metadata": {},
   "outputs": [],
   "source": [
    "#Method: A method is a function that is associated with an object. Methods are defined within a class and are called on instances of that class. Methods implicitly pass the instance (referred to as self) as the first parameter."
   ]
  },
  {
   "cell_type": "code",
   "execution_count": 5,
   "id": "6fa7a098-3109-4f3a-939d-a3fc5251e4d0",
   "metadata": {},
   "outputs": [
    {
     "name": "stdout",
     "output_type": "stream",
     "text": [
      "This is a method\n"
     ]
    }
   ],
   "source": [
    "class MyClass:\n",
    "    def my_method(self):\n",
    "        print(\"This is a method\")\n",
    "\n",
    "obj = MyClass()\n",
    "obj.my_method()  # Calling the method"
   ]
  },
  {
   "cell_type": "code",
   "execution_count": 6,
   "id": "4777626a-6dc9-4a0c-a6cf-a623c604d4c6",
   "metadata": {},
   "outputs": [],
   "source": [
    "#Usage:\n",
    "\n",
    "#Function: Used for general-purpose tasks that do not necessarily operate on objects.\n",
    "#Method: Used for tasks that are related to an object and often modify the state of the object or operate on its attributes."
   ]
  },
  {
   "cell_type": "code",
   "execution_count": 7,
   "id": "35d4b6ba-c12a-45ab-89f3-69409e641fbf",
   "metadata": {},
   "outputs": [],
   "source": [
    "#Explain the concept of function arguments and parameters in Python?"
   ]
  },
  {
   "cell_type": "code",
   "execution_count": 8,
   "id": "382916c2-bef9-4f16-80d0-c3741e21f4a6",
   "metadata": {},
   "outputs": [],
   "source": [
    "#The terms \"arguments\" and \"parameters\" refer to the values and variables involved in function calls and definitions. Here's an explanation of these concepts:\n",
    "\n",
    "#Parameters\n",
    "#Parameters are the variables listed inside the parentheses in the function definition. They act as placeholders for the values that will be passed to the function when it is called."
   ]
  },
  {
   "cell_type": "code",
   "execution_count": 9,
   "id": "18eb8b1e-2ae3-4ad5-8f2e-221d066ca824",
   "metadata": {},
   "outputs": [],
   "source": [
    "def greet(name):\n",
    "    print(f\"Hello, {name}!\")"
   ]
  },
  {
   "cell_type": "code",
   "execution_count": 10,
   "id": "b978a0a3-e0cc-442d-8b1d-93a095fb533c",
   "metadata": {},
   "outputs": [],
   "source": [
    "#Arguments\n",
    "#Arguments are the actual values that are passed to the function when it is called. These values are assigned to the corresponding parameters in the function definition."
   ]
  },
  {
   "cell_type": "code",
   "execution_count": 11,
   "id": "522fc656-5406-461f-9ac4-cc159c7ff626",
   "metadata": {},
   "outputs": [
    {
     "name": "stdout",
     "output_type": "stream",
     "text": [
      "Hello, Riya!\n"
     ]
    }
   ],
   "source": [
    "greet(\"Riya\")"
   ]
  },
  {
   "cell_type": "code",
   "execution_count": 13,
   "id": "3597940b-2814-486e-a37f-ca5d2f1f3b57",
   "metadata": {},
   "outputs": [],
   "source": [
    "#What are the different ways to define and call a function in Python? \n",
    "\n",
    "#functions can be defined and called in various ways. Here are some of the most common methods:"
   ]
  },
  {
   "cell_type": "code",
   "execution_count": 18,
   "id": "f8de9588-ea16-4702-b8a7-2a67a0be1a15",
   "metadata": {},
   "outputs": [],
   "source": [
    "#Defining Functions\n",
    "#1-Simple Functions Definition\n",
    "def greet():\n",
    "    print(\"Hello, World!\")"
   ]
  },
  {
   "cell_type": "code",
   "execution_count": 19,
   "id": "c288fa4f-ec76-4111-a32c-bf507be35f23",
   "metadata": {},
   "outputs": [],
   "source": [
    "#2.Function with Parameters\n",
    "def greet(name):\n",
    "    print(f\"Hello, {name}!\")"
   ]
  },
  {
   "cell_type": "code",
   "execution_count": 20,
   "id": "08604983-c5ba-4d05-bf85-63acffbee8ae",
   "metadata": {},
   "outputs": [],
   "source": [
    "#3.Function with Default Parameters\n",
    "def greet(name=\"Guest\"):\n",
    "    print(f\"Hello, {name}!\")"
   ]
  },
  {
   "cell_type": "code",
   "execution_count": 21,
   "id": "96bd9db4-474e-4496-baef-25b7523ff9c3",
   "metadata": {},
   "outputs": [
    {
     "name": "stdout",
     "output_type": "stream",
     "text": [
      "Hello, Guest!\n"
     ]
    }
   ],
   "source": [
    "#Calling Functions\n",
    "#1.Calling a Simple Function\n",
    "greet()  "
   ]
  },
  {
   "cell_type": "code",
   "execution_count": 22,
   "id": "7d6c1669-82c0-49c3-9eb4-83f4a7996a2c",
   "metadata": {},
   "outputs": [
    {
     "name": "stdout",
     "output_type": "stream",
     "text": [
      "Hello, Riya!\n"
     ]
    }
   ],
   "source": [
    "#2.Calling a Function with Positional Arguments\n",
    "greet(\"Riya\")  "
   ]
  },
  {
   "cell_type": "code",
   "execution_count": 23,
   "id": "214bf954-c3bd-4ea0-895d-a8c3f43bbd7d",
   "metadata": {},
   "outputs": [
    {
     "name": "stdout",
     "output_type": "stream",
     "text": [
      "My name is Riya Singh\n"
     ]
    }
   ],
   "source": [
    "#3.Calling a Function with Keyword Arguments\n",
    "def introduce(first_name, last_name):\n",
    "    print(f\"My name is {first_name} {last_name}\")\n",
    "\n",
    "introduce(first_name=\"Riya\", last_name=\"Singh\")"
   ]
  },
  {
   "cell_type": "code",
   "execution_count": 24,
   "id": "8785d3aa-c2ff-4d3d-8441-e4d574039594",
   "metadata": {},
   "outputs": [],
   "source": [
    "#what is the purpose of 'return' statements in the Python function?\n",
    "\n",
    "#The return statement in Python is used within a function to exit the function and optionally pass an expression back to the caller. Here are the key purposes and aspects of the return statement:"
   ]
  },
  {
   "cell_type": "code",
   "execution_count": 25,
   "id": "a46ce199-de8f-40e5-b9e0-fb45dad3cbb5",
   "metadata": {},
   "outputs": [],
   "source": [
    "#Purpose of the return Statement\n",
    "#Exiting a Function\n",
    "#The return statement allows a function to terminate and return control back to the point where the function was called. If the return statement is executed, the function ends immediately, and no further code in the function is executed.\n",
    "\n",
    "#Returning Values\n",
    "#The primary purpose of return is to pass a value (or values) from the function back to the caller. This value can then be used in the calling context."
   ]
  },
  {
   "cell_type": "code",
   "execution_count": 26,
   "id": "f49a097a-6486-45b0-8e1e-7cda936d5cd6",
   "metadata": {},
   "outputs": [
    {
     "name": "stdout",
     "output_type": "stream",
     "text": [
      "8\n"
     ]
    }
   ],
   "source": [
    "#Returning a Single Value\n",
    "def add(a, b):\n",
    "    return a + b\n",
    "\n",
    "result = add(3, 5)\n",
    "print(result)  "
   ]
  },
  {
   "cell_type": "code",
   "execution_count": 27,
   "id": "a3dd3684-8b88-4c8f-8899-8d085632bde2",
   "metadata": {},
   "outputs": [],
   "source": [
    "#what are iterators in Python and how they do differ from iterables? \n",
    "#iterators and iterables are important concepts for working with sequences of data."
   ]
  },
  {
   "cell_type": "code",
   "execution_count": 28,
   "id": "305d7076-ce52-4219-919d-0c8cc42e432d",
   "metadata": {},
   "outputs": [],
   "source": [
    "#Iterables\n",
    "#An iterable is any Python object that can return its elements one at a time, allowing it to be iterated over in a for loop or with other iterating functions. Common examples include lists, tuples, strings, and dictionaries. To be iterable, an object must implement the __iter__() method, which returns an iterator.\n",
    "\n",
    "#Iterators\n",
    "#An iterator is an object that represents a stream of data. It knows how to compute the next value in the sequence when you call the __next__() (or next() in Python 2) method. Iterators keep track of their current position in the sequence and raise a StopIteration exception when there are no more items to return. To be an iterator, an object must implement both the __iter__() and __next__() methods."
   ]
  },
  {
   "cell_type": "code",
   "execution_count": 29,
   "id": "419a280b-447e-4e8f-9744-93e483ad545a",
   "metadata": {},
   "outputs": [],
   "source": [
    "#Differences Between Iterables and Iterators\n",
    "#Definition and Methods:\n",
    "\n",
    "#Iterable: An object with an __iter__() method that returns an iterator.\n",
    "#Iterator: An object with both __iter__() and __next__() methods.\n",
    "\n",
    "#Usage:\n",
    "#Iterable: Used as the source for obtaining an iterator. It can be used in a for loop or any context that requires iteration.\n",
    "#Iterator: Used to fetch the next item in the sequence. It is typically obtained from an iterable using the iter() function."
   ]
  },
  {
   "cell_type": "code",
   "execution_count": 30,
   "id": "c3ba2965-ef68-45f6-806a-5ad01690fe46",
   "metadata": {},
   "outputs": [
    {
     "name": "stdout",
     "output_type": "stream",
     "text": [
      "1\n",
      "2\n",
      "3\n"
     ]
    }
   ],
   "source": [
    "#Iterable\n",
    "my_list = [1, 2, 3]  # This is an iterable\n",
    "\n",
    "for item in my_list:  # Using the iterable in a for loop\n",
    "    print(item)"
   ]
  },
  {
   "cell_type": "code",
   "execution_count": 31,
   "id": "cfa2d8ee-c7bc-4c68-b19b-a72978084f9e",
   "metadata": {},
   "outputs": [
    {
     "name": "stdout",
     "output_type": "stream",
     "text": [
      "1\n",
      "2\n",
      "3\n"
     ]
    }
   ],
   "source": [
    "#Iterator\n",
    "my_list = [1, 2, 3]  # This is an iterable\n",
    "my_iterator = iter(my_list)  # Create an iterator from the iterable\n",
    "\n",
    "print(next(my_iterator))  \n",
    "print(next(my_iterator))  \n",
    "print(next(my_iterator))  \n",
    "# print(next(my_iterator))  # Raises StopIteration\n"
   ]
  },
  {
   "cell_type": "code",
   "execution_count": 32,
   "id": "32b0f95b-c485-487f-8604-1860ad2ec9cf",
   "metadata": {},
   "outputs": [],
   "source": [
    "#Explain the concept of generators in Python and how they are defined.\n",
    "\n",
    "#Generators in Python are a type of iterable, like lists or tuples. However, unlike lists, generators do not store their contents in memory. Instead, they generate items on the fly and provide a convenient way to implement iterators. Here’s a detailed explanation of generators, including how they are defined and used:"
   ]
  },
  {
   "cell_type": "code",
   "execution_count": 33,
   "id": "4fd18493-03ea-4312-8153-b4b555608840",
   "metadata": {},
   "outputs": [],
   "source": [
    "#Concept of Generators\n",
    "#Generators allow you to declare a function that behaves like an iterator. They allow you to iterate through a sequence of values without storing the entire sequence in memory. This is especially useful for large datasets or when you want to create an infinite sequence of values."
   ]
  },
  {
   "cell_type": "code",
   "execution_count": 34,
   "id": "79dda28b-bf6a-444e-8b0f-82c23f9b8a5a",
   "metadata": {},
   "outputs": [
    {
     "name": "stdout",
     "output_type": "stream",
     "text": [
      "1\n",
      "2\n",
      "3\n"
     ]
    }
   ],
   "source": [
    "def my_generator():\n",
    "    yield 1\n",
    "    yield 2\n",
    "    yield 3\n",
    "\n",
    "gen = my_generator()\n",
    "print(next(gen))  \n",
    "print(next(gen))  \n",
    "print(next(gen))  \n",
    "# print(next(gen))  # Raises StopIteration"
   ]
  },
  {
   "cell_type": "code",
   "execution_count": 35,
   "id": "6e5beea2-ccd2-437e-9284-e8b47dd62317",
   "metadata": {},
   "outputs": [],
   "source": [
    "#what are the advantages  of using generator functions over regular function?\n",
    "\n",
    "#Generator functions offer several advantages over regular functions, especially in terms of memory efficiency and performance. Here are some key advantages:"
   ]
  },
  {
   "cell_type": "code",
   "execution_count": 36,
   "id": "e52bc39a-588f-41fc-9672-c114c1cfc17a",
   "metadata": {},
   "outputs": [],
   "source": [
    "#1-Memory Efficiency\n",
    "#Lazy Evaluation: Generator functions generate values one at a time and only when required. This means that they don’t need to store the entire sequence in memory, which is particularly useful for working with large data sets or streams of data."
   ]
  },
  {
   "cell_type": "code",
   "execution_count": 37,
   "id": "b586c63d-2816-479f-9457-c72d24c9ac2b",
   "metadata": {},
   "outputs": [],
   "source": [
    "def regular_function(n):\n",
    "    result = []\n",
    "    for i in range(n):\n",
    "        result.append(i)\n",
    "    return result\n",
    "\n",
    "def generator_function(n):\n",
    "    for i in range(n):\n",
    "        yield i"
   ]
  },
  {
   "cell_type": "code",
   "execution_count": 38,
   "id": "59bf3e68-6bc8-4433-9ef1-1b5f802cc7ef",
   "metadata": {},
   "outputs": [],
   "source": [
    "#2. Performance\n",
    "#Faster Execution: Since generators yield items one at a time, they can start producing output immediately and can be faster in scenarios where you start consuming values before all of them are produced."
   ]
  },
  {
   "cell_type": "code",
   "execution_count": 39,
   "id": "07c5b98f-f68f-4c2b-b14b-919bba9e45c5",
   "metadata": {},
   "outputs": [],
   "source": [
    "gen = generator_function(10**6)\n",
    "first_value = next(gen)  # This is faster than creating and accessing a large list"
   ]
  },
  {
   "cell_type": "code",
   "execution_count": 40,
   "id": "e3fad189-1f0a-47c3-b3c9-c2668ab8cea0",
   "metadata": {},
   "outputs": [],
   "source": [
    "#Simpler Code for Iteration\n",
    "#Ease of Implementation: Generators simplify the implementation of iterators. With generator functions, you don’t need to manage the internal state or handle the StopIteration exception explicitly."
   ]
  },
  {
   "cell_type": "code",
   "execution_count": 41,
   "id": "f9170bdd-de28-4468-9970-08bed63b95ac",
   "metadata": {},
   "outputs": [],
   "source": [
    "class IteratorClass:\n",
    "    def __init__(self, n):\n",
    "        self.i = 0\n",
    "        self.n = n\n",
    "\n",
    "    def __iter__(self):\n",
    "        return self\n",
    "\n",
    "    def __next__(self):\n",
    "        if self.i < self.n:\n",
    "            i = self.i\n",
    "            self.i += 1\n",
    "            return i\n",
    "        else:\n",
    "            raise StopIteration\n",
    "\n",
    "def generator_function(n):\n",
    "    for i in range(n):\n",
    "        yield i\n"
   ]
  },
  {
   "cell_type": "code",
   "execution_count": 42,
   "id": "51c39d57-aa31-43a2-b294-f8bab941abaa",
   "metadata": {},
   "outputs": [],
   "source": [
    "#what is lambda function in Python and when is it typically used?"
   ]
  },
  {
   "cell_type": "code",
   "execution_count": 43,
   "id": "cc9d225c-511e-4c49-93d3-fcedf79a0845",
   "metadata": {},
   "outputs": [
    {
     "data": {
      "text/plain": [
       "<function __main__.<lambda>(arguments)>"
      ]
     },
     "execution_count": 43,
     "metadata": {},
     "output_type": "execute_result"
    }
   ],
   "source": [
    "# lambda function is a small, anonymous function defined with the lambda keyword. Unlike regular functions defined using def, lambda functions are limited to a single expression. They are often used for simple operations that can be written in a concise manner.\n",
    "\n",
    "#Syntax of Lambda Functions\n",
    "#The syntax of a lambda function is:\n",
    "lambda arguments: expression"
   ]
  },
  {
   "cell_type": "code",
   "execution_count": 44,
   "id": "5836c364-223a-4608-b40d-71424241a310",
   "metadata": {},
   "outputs": [
    {
     "name": "stdout",
     "output_type": "stream",
     "text": [
      "5\n"
     ]
    }
   ],
   "source": [
    "#Examples \n",
    "add = lambda x, y: x + y\n",
    "print(add(2, 3))  "
   ]
  },
  {
   "cell_type": "code",
   "execution_count": 45,
   "id": "69947e59-6aff-4233-85db-84b6e8291b39",
   "metadata": {},
   "outputs": [],
   "source": [
    "#Typical Uses of Lambda Functions\n",
    "#Lambda functions are often used in situations where a small, throwaway function is needed for a short period. Here are some common scenarios:\n",
    "\n",
    "#Used as Arguments to Higher-Order Functions"
   ]
  },
  {
   "cell_type": "code",
   "execution_count": 46,
   "id": "fd58c9d9-869d-4c68-aefb-43f52212b342",
   "metadata": {},
   "outputs": [
    {
     "name": "stdout",
     "output_type": "stream",
     "text": [
      "[1, 4, 9, 16]\n"
     ]
    }
   ],
   "source": [
    "numbers = [1, 2, 3, 4]\n",
    "squares = list(map(lambda x: x * x, numbers))\n",
    "print(squares)  "
   ]
  },
  {
   "cell_type": "code",
   "execution_count": 47,
   "id": "384ae153-3a2f-4cc2-bec1-249aee2eeed2",
   "metadata": {},
   "outputs": [],
   "source": [
    "#Explain the purpose and usage of the 'map()' function in python."
   ]
  },
  {
   "cell_type": "code",
   "execution_count": 48,
   "id": "ac92fe57-8c48-4e3f-a79d-aaf0bb1f1635",
   "metadata": {},
   "outputs": [],
   "source": [
    "#The map() function in Python is used to apply a given function to all items in an input iterable (such as a list, tuple, or string) and return a new iterable with the results. It is a built-in function that helps to perform operations on each item in the input sequence efficiently.\n",
    "\n",
    "#Purpose of map()\n",
    "#The primary purpose of map() is to simplify the process of applying a function to each item in an iterable, eliminating the need for an explicit loop. It is particularly useful when you need to perform the same operation on each element of a list or another sequence."
   ]
  },
  {
   "cell_type": "code",
   "execution_count": 49,
   "id": "56850b24-798e-4c0a-8d5c-ffefedac9f5e",
   "metadata": {},
   "outputs": [],
   "source": [
    "#Usage\n",
    "#Here are some examples to illustrate how map() is used:\n",
    "\n",
    "#Simple Example with a Built-in Function\n",
    "\n",
    "#Applying the str function to convert a list of integers to strings:"
   ]
  },
  {
   "cell_type": "code",
   "execution_count": 50,
   "id": "4a26eb25-bf52-4713-9bed-e969db756556",
   "metadata": {},
   "outputs": [
    {
     "name": "stdout",
     "output_type": "stream",
     "text": [
      "['1', '2', '3', '4']\n"
     ]
    }
   ],
   "source": [
    "numbers = [1, 2, 3, 4]\n",
    "str_numbers = list(map(str, numbers))\n",
    "print(str_numbers)  "
   ]
  },
  {
   "cell_type": "code",
   "execution_count": 51,
   "id": "8ee44570-ff65-4f3b-bfaf-120561df5f5f",
   "metadata": {},
   "outputs": [],
   "source": [
    "#what is the difference between 'map()','reduce()',and 'filter()' functions in python?\n",
    "\n",
    "#The map(), reduce(), and filter() functions in Python are higher-order functions that operate on iterables (like lists, tuples, etc.) and allow for functional programming paradigms. Each serves a distinct purpose:"
   ]
  },
  {
   "cell_type": "code",
   "execution_count": 52,
   "id": "928eeedc-eee1-4f2e-bafd-1ce009ccd7db",
   "metadata": {},
   "outputs": [],
   "source": [
    "#map()\n",
    "#The map() function applies a given function to each item of an iterable (e.g., list, tuple) and returns a map object (an iterator) with the results.\n",
    "\n",
    "#Purpose: Transform each item in an iterable.\n",
    "#Returns: A map object, which is an iterator. You can convert it to a list or another collection if needed.\n",
    "#Syntax: map(function, iterable, ...)"
   ]
  },
  {
   "cell_type": "code",
   "execution_count": 53,
   "id": "5bcfe588-7854-4223-bb1f-62cfeacc5f4d",
   "metadata": {},
   "outputs": [
    {
     "name": "stdout",
     "output_type": "stream",
     "text": [
      "[1, 4, 9, 16]\n"
     ]
    }
   ],
   "source": [
    "numbers = [1, 2, 3, 4]\n",
    "squared = map(lambda x: x ** 2, numbers)\n",
    "print(list(squared))  "
   ]
  },
  {
   "cell_type": "code",
   "execution_count": 54,
   "id": "16a0bacf-42fd-4c6f-9aca-bf594a9a21e6",
   "metadata": {},
   "outputs": [],
   "source": [
    "#filter()\n",
    "#The filter() function applies a given function to each item of an iterable and returns an iterator with only the items for which the function returns True.\n",
    "\n",
    "#Purpose: Filter items in an iterable based on a condition.\n",
    "#Returns: A filter object, which is an iterator. You can convert it to a list or another collection if needed.\n",
    "#Syntax: filter(function, iterable)"
   ]
  },
  {
   "cell_type": "code",
   "execution_count": 55,
   "id": "b4b535cb-652e-4c03-ab28-8e822a001196",
   "metadata": {},
   "outputs": [
    {
     "name": "stdout",
     "output_type": "stream",
     "text": [
      "[2, 4, 6]\n"
     ]
    }
   ],
   "source": [
    "numbers = [1, 2, 3, 4, 5, 6]\n",
    "evens = filter(lambda x: x % 2 == 0, numbers)\n",
    "print(list(evens))  "
   ]
  },
  {
   "cell_type": "code",
   "execution_count": 56,
   "id": "0c3a2760-9942-4935-a353-88868f8f9b38",
   "metadata": {},
   "outputs": [],
   "source": [
    "#reduce()\n",
    "#The reduce() function from the functools module applies a given function cumulatively to the items of an iterable, from left to right, to reduce the iterable to a single value.\n",
    "\n",
    "#Purpose: Aggregate or reduce an iterable to a single cumulative value.\n",
    "#Returns: A single value.\n",
    "#Syntax: reduce(function, iterable[, initializer])"
   ]
  },
  {
   "cell_type": "code",
   "execution_count": 57,
   "id": "1688f86b-5420-4a0d-a97a-b10635c94b34",
   "metadata": {},
   "outputs": [
    {
     "name": "stdout",
     "output_type": "stream",
     "text": [
      "24\n"
     ]
    }
   ],
   "source": [
    "from functools import reduce\n",
    "\n",
    "numbers = [1, 2, 3, 4]\n",
    "product = reduce(lambda x, y: x * y, numbers)\n",
    "print(product)  "
   ]
  },
  {
   "cell_type": "code",
   "execution_count": null,
   "id": "6451e585-9366-4135-8d37-8ab0c5da30c8",
   "metadata": {},
   "outputs": [],
   "source": []
  }
 ],
 "metadata": {
  "kernelspec": {
   "display_name": "Python 3 (ipykernel)",
   "language": "python",
   "name": "python3"
  },
  "language_info": {
   "codemirror_mode": {
    "name": "ipython",
    "version": 3
   },
   "file_extension": ".py",
   "mimetype": "text/x-python",
   "name": "python",
   "nbconvert_exporter": "python",
   "pygments_lexer": "ipython3",
   "version": "3.10.8"
  }
 },
 "nbformat": 4,
 "nbformat_minor": 5
}
